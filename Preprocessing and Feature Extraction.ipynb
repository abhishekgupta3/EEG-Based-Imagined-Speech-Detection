{
 "cells": [
  {
   "cell_type": "markdown",
   "id": "5773d00f",
   "metadata": {},
   "source": [
    "### Importing Libraries"
   ]
  },
  {
   "cell_type": "code",
   "execution_count": 1,
   "id": "8f98bfc7",
   "metadata": {
    "scrolled": true
   },
   "outputs": [],
   "source": [
    "import numpy\n",
    "import pandas\n",
    "from scipy.signal import butter, filtfilt\n",
    "from sklearn.preprocessing import scale"
   ]
  },
  {
   "cell_type": "markdown",
   "id": "2dd9db58",
   "metadata": {},
   "source": [
    "### Preprocessing"
   ]
  },
  {
   "cell_type": "code",
   "execution_count": 2,
   "id": "9267ada0",
   "metadata": {},
   "outputs": [],
   "source": [
    "# Adding channels\n",
    "def summed_data(data):\n",
    "    return data[0] + data[1] + data[2] + data[3] + data[4] + data[5] + data[6] + data[7] + data[8] + data[9]\n",
    "\n",
    "def butter_LowPass(series, N, Wn):\n",
    "    # N = 2  # Filter order\n",
    "    # Wn = 0.01  # Cutoff frequency\n",
    "    B, A = butter(N, Wn, output='ba')\n",
    "    y = filtfilt(B, A, series)\n",
    "    return y"
   ]
  },
  {
   "cell_type": "code",
   "execution_count": 3,
   "id": "9fa8a1bb",
   "metadata": {},
   "outputs": [],
   "source": [
    "def create_epochs(t_series, epoch_length):\n",
    "    list_a = []\n",
    "    for j in range(0, len(t_series), epoch_length):\n",
    "        epoch = t_series[j : j + epoch_length]\n",
    "        list_a.append(epoch)\n",
    "    return list_a\n",
    "\n",
    "# creating epoch of all actions \n",
    "def create_epoch_partedEvents(epo_series):\n",
    "    events = []\n",
    "    for j in range(len(epo_series)):\n",
    "        # rest = epo_series[j][0:5000]\n",
    "        # stimulus = epo_series[j][5000:6000]\n",
    "        # get_ready = epo_series[j][6000:8000]\n",
    "        imagined_speech = epo_series[j][8000:13000]\n",
    "        # speak = epo_series[j][13000:14000]\n",
    "\n",
    "        events.append(imagined_speech)\n",
    "    return events[0 : 145]"
   ]
  },
  {
   "cell_type": "code",
   "execution_count": 4,
   "id": "a5b34947",
   "metadata": {},
   "outputs": [],
   "source": [
    "def time_series():\n",
    "    person1 = create_epoch_partedEvents(\n",
    "        create_epochs(butter_LowPass(summed_data(numpy.load(\"Data/Person1.npy\")), 2, 0.01), 14000))\n",
    "    person2 = create_epoch_partedEvents(\n",
    "        create_epochs(butter_LowPass(summed_data(numpy.load(\"Data/Person2.npy\")), 2, 0.01), 14000))\n",
    "    person4 = create_epoch_partedEvents(\n",
    "        create_epochs(butter_LowPass(summed_data(numpy.load(\"Data/Person4.npy\")), 2, 0.01), 14000))\n",
    "    return person1, person2, person4"
   ]
  },
  {
   "cell_type": "code",
   "execution_count": 5,
   "id": "b97c054a",
   "metadata": {},
   "outputs": [],
   "source": [
    "a, b, d = time_series()"
   ]
  },
  {
   "cell_type": "code",
   "execution_count": 6,
   "id": "73ac8248",
   "metadata": {},
   "outputs": [],
   "source": [
    "y = numpy.vstack((a, b, d))"
   ]
  },
  {
   "cell_type": "code",
   "execution_count": null,
   "id": "755e87eb",
   "metadata": {},
   "outputs": [],
   "source": [
    "y.shape"
   ]
  },
  {
   "cell_type": "markdown",
   "id": "6100cd51",
   "metadata": {},
   "source": [
    "### Feature Extraction, Label Encoding"
   ]
  },
  {
   "cell_type": "code",
   "execution_count": 22,
   "id": "a393c90b",
   "metadata": {},
   "outputs": [],
   "source": [
    "def class_seperator(series, start, end, step):\n",
    "    b = []\n",
    "    a = numpy.arange(start, end, step)\n",
    "    j = 0\n",
    "    for i in a:\n",
    "        # Mean\n",
    "        m = numpy.mean(series[i])\n",
    "        v = numpy.var(series[i])\n",
    "        b.append([m, v])\n",
    "        j += 1\n",
    "        if j == 39:\n",
    "            break\n",
    "    return numpy.array(b)"
   ]
  },
  {
   "cell_type": "code",
   "execution_count": 20,
   "id": "1d384bee",
   "metadata": {},
   "outputs": [
    {
     "data": {
      "text/plain": [
       "(39, 2)"
      ]
     },
     "execution_count": 20,
     "metadata": {},
     "output_type": "execute_result"
    }
   ],
   "source": [
    "iy = class_seperator(y, 0, len(y), 11)\n",
    "iy.shape"
   ]
  },
  {
   "cell_type": "code",
   "execution_count": 21,
   "id": "d61bb772",
   "metadata": {
    "scrolled": false
   },
   "outputs": [
    {
     "name": "stdout",
     "output_type": "stream",
     "text": [
      "(39, 2)\n",
      "(39, 2)\n",
      "(39, 2)\n",
      "(39, 2)\n",
      "(39, 2)\n",
      "(39, 2)\n",
      "(39, 2)\n",
      "(39, 2)\n",
      "(39, 2)\n",
      "(39, 2)\n",
      "(39, 2)\n",
      "(429, 2)\n"
     ]
    }
   ],
   "source": [
    "# Separating the classes \n",
    "iy = class_seperator(y, 0, len(y), 11)\n",
    "print(iy.shape)\n",
    "\n",
    "uw = class_seperator(y, 1, len(y), 11)\n",
    "print(uw.shape)\n",
    "\n",
    "piy = class_seperator(y, 2, len(y), 11)\n",
    "print(piy.shape)\n",
    "\n",
    "tiy = class_seperator(y, 3, len(y), 11)\n",
    "print(tiy.shape)\n",
    "\n",
    "diy = class_seperator(y, 4, len(y), 11)\n",
    "print(diy.shape)\n",
    "\n",
    "m = class_seperator(y, 5, len(y), 11)\n",
    "print(m.shape)\n",
    "\n",
    "n = class_seperator(y, 6, len(y), 11)\n",
    "print(n.shape)\n",
    "\n",
    "pat = class_seperator(y, 7, len(y), 11)\n",
    "print(pat.shape)\n",
    "\n",
    "pot = class_seperator(y, 8, len(y), 11)\n",
    "print(pot.shape)\n",
    "\n",
    "knew = class_seperator(y, 9, len(y), 11)\n",
    "print(knew.shape)\n",
    "\n",
    "gnaw = class_seperator(y, 10, len(y), 11)\n",
    "print(gnaw.shape)\n",
    "\n",
    "fg = numpy.vstack((iy, uw, piy, tiy, diy, m, n, pat, pot, knew, gnaw))\n",
    "fg = scale(fg)\n",
    "\n",
    "print(fg.shape)"
   ]
  },
  {
   "cell_type": "code",
   "execution_count": 23,
   "id": "c1bf9e01",
   "metadata": {},
   "outputs": [],
   "source": [
    "def index_list(length):\n",
    "    a = []\n",
    "    for i in range(0, 11):\n",
    "        for j in range(length):\n",
    "            a.append(i)\n",
    "    return a"
   ]
  },
  {
   "cell_type": "code",
   "execution_count": 24,
   "id": "859df28e",
   "metadata": {},
   "outputs": [],
   "source": [
    "index = index_list(length=39)"
   ]
  },
  {
   "cell_type": "code",
   "execution_count": 25,
   "id": "f7909481",
   "metadata": {},
   "outputs": [],
   "source": [
    "# creating data frame \n",
    "df = pandas.DataFrame(fg, index = index)\n",
    "df = df.sample(frac = 1)\n",
    "df.to_csv(\"final_data.csv\")"
   ]
  }
 ],
 "metadata": {
  "kernelspec": {
   "display_name": "Python 3 (ipykernel)",
   "language": "python",
   "name": "python3"
  },
  "language_info": {
   "codemirror_mode": {
    "name": "ipython",
    "version": 3
   },
   "file_extension": ".py",
   "mimetype": "text/x-python",
   "name": "python",
   "nbconvert_exporter": "python",
   "pygments_lexer": "ipython3",
   "version": "3.10.4"
  }
 },
 "nbformat": 4,
 "nbformat_minor": 5
}
