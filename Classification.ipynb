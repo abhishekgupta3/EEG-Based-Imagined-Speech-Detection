{
 "cells": [
  {
   "cell_type": "markdown",
   "id": "9f053ea6",
   "metadata": {},
   "source": [
    "### Importing Libraries"
   ]
  },
  {
   "cell_type": "code",
   "execution_count": 1,
   "id": "c9d69353",
   "metadata": {},
   "outputs": [],
   "source": [
    "import pandas\n",
    "from sklearn.neural_network import MLPClassifier\n",
    "from sklearn.model_selection import train_test_split\n",
    "from sklearn.metrics import accuracy_score, confusion_matrix"
   ]
  },
  {
   "cell_type": "code",
   "execution_count": 2,
   "id": "9b975bf6",
   "metadata": {},
   "outputs": [],
   "source": [
    "df = pandas.read_csv(\"final_data.csv\")"
   ]
  },
  {
   "cell_type": "code",
   "execution_count": 3,
   "id": "74772984",
   "metadata": {},
   "outputs": [
    {
     "data": {
      "text/plain": [
       "(435, 5001)"
      ]
     },
     "execution_count": 3,
     "metadata": {},
     "output_type": "execute_result"
    }
   ],
   "source": [
    "df.shape"
   ]
  },
  {
   "cell_type": "code",
   "execution_count": 4,
   "id": "a235829a",
   "metadata": {},
   "outputs": [],
   "source": [
    "y = df.iloc[:, 0]\n",
    "x = df.iloc[:, 1:5001]"
   ]
  },
  {
   "cell_type": "markdown",
   "id": "f4065be0",
   "metadata": {},
   "source": [
    "### Classification"
   ]
  },
  {
   "cell_type": "code",
   "execution_count": 5,
   "id": "46dcd51b",
   "metadata": {},
   "outputs": [],
   "source": [
    "# Train-test split\n",
    "x_train, x_test, y_train, y_test = train_test_split(x, y, test_size = 0.25, random_state = 27)"
   ]
  },
  {
   "cell_type": "code",
   "execution_count": 6,
   "id": "de98d6e0",
   "metadata": {},
   "outputs": [
    {
     "data": {
      "text/plain": [
       "((326, 5000), (109, 5000))"
      ]
     },
     "execution_count": 6,
     "metadata": {},
     "output_type": "execute_result"
    }
   ],
   "source": [
    "x_train.shape, x_test.shape"
   ]
  },
  {
   "cell_type": "code",
   "execution_count": 7,
   "id": "0b2eedc7",
   "metadata": {},
   "outputs": [
    {
     "data": {
      "text/plain": [
       "((326,), (109,))"
      ]
     },
     "execution_count": 7,
     "metadata": {},
     "output_type": "execute_result"
    }
   ],
   "source": [
    "y_train.shape, y_test.shape"
   ]
  },
  {
   "cell_type": "markdown",
   "id": "0f0308b3",
   "metadata": {},
   "source": [
    "#### Multilayer Perceptron"
   ]
  },
  {
   "cell_type": "code",
   "execution_count": 9,
   "id": "bc1f6a4c",
   "metadata": {},
   "outputs": [],
   "source": [
    "clf = MLPClassifier(hidden_layer_sizes=(6000, 3000, 1300, 800, 11),\n",
    "                    activation='relu',\n",
    "                    learning_rate='adaptive',\n",
    "                    shuffle=True,\n",
    "                    max_iter=5,\n",
    "                    batch_size=30,\n",
    "                    alpha=0.001,\n",
    "                    solver='sgd',\n",
    "                    verbose=True,\n",
    "                    momentum=0.9)"
   ]
  },
  {
   "cell_type": "code",
   "execution_count": 10,
   "id": "6d9ac6a2",
   "metadata": {},
   "outputs": [
    {
     "name": "stdout",
     "output_type": "stream",
     "text": [
      "Iteration 1, loss = 6.00073483\n",
      "Iteration 2, loss = 5.99121077\n",
      "Iteration 3, loss = 5.98253864\n",
      "Iteration 4, loss = 5.97432936\n",
      "Iteration 5, loss = 5.96500632\n"
     ]
    },
    {
     "name": "stderr",
     "output_type": "stream",
     "text": [
      "C:\\Users\\Lenovo\\AppData\\Local\\Programs\\Python\\Python310\\lib\\site-packages\\sklearn\\neural_network\\_multilayer_perceptron.py:692: ConvergenceWarning: Stochastic Optimizer: Maximum iterations (5) reached and the optimization hasn't converged yet.\n",
      "  warnings.warn(\n"
     ]
    },
    {
     "data": {
      "text/plain": [
       "MLPClassifier(alpha=0.001, batch_size=30,\n",
       "              hidden_layer_sizes=(6000, 3000, 1300, 800, 11),\n",
       "              learning_rate='adaptive', max_iter=5, solver='sgd', verbose=True)"
      ]
     },
     "execution_count": 10,
     "metadata": {},
     "output_type": "execute_result"
    }
   ],
   "source": [
    "clf.fit(x_train, y_train)"
   ]
  },
  {
   "cell_type": "code",
   "execution_count": 11,
   "id": "4ecac809",
   "metadata": {},
   "outputs": [],
   "source": [
    "y_pred = clf.predict(x_test)"
   ]
  },
  {
   "cell_type": "code",
   "execution_count": 12,
   "id": "d1477ed2",
   "metadata": {},
   "outputs": [
    {
     "name": "stdout",
     "output_type": "stream",
     "text": [
      "0.0\n"
     ]
    }
   ],
   "source": [
    "print(accuracy_score(y_test, y_pred))"
   ]
  },
  {
   "cell_type": "code",
   "execution_count": 13,
   "id": "04c3eede",
   "metadata": {},
   "outputs": [
    {
     "name": "stdout",
     "output_type": "stream",
     "text": [
      "[[0 0 0 ... 0 0 0]\n",
      " [0 0 0 ... 0 0 0]\n",
      " [0 0 0 ... 0 0 0]\n",
      " ...\n",
      " [0 0 0 ... 0 0 0]\n",
      " [0 0 0 ... 0 0 0]\n",
      " [0 0 0 ... 0 0 0]]\n"
     ]
    }
   ],
   "source": [
    "print(confusion_matrix(y_test, y_pred))"
   ]
  },
  {
   "cell_type": "code",
   "execution_count": null,
   "id": "f4a1e8ff",
   "metadata": {},
   "outputs": [],
   "source": []
  }
 ],
 "metadata": {
  "kernelspec": {
   "display_name": "Python 3 (ipykernel)",
   "language": "python",
   "name": "python3"
  },
  "language_info": {
   "codemirror_mode": {
    "name": "ipython",
    "version": 3
   },
   "file_extension": ".py",
   "mimetype": "text/x-python",
   "name": "python",
   "nbconvert_exporter": "python",
   "pygments_lexer": "ipython3",
   "version": "3.10.4"
  }
 },
 "nbformat": 4,
 "nbformat_minor": 5
}
