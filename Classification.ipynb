{
 "cells": [
  {
   "cell_type": "markdown",
   "id": "9f053ea6",
   "metadata": {},
   "source": [
    "### Importing Libraries"
   ]
  },
  {
   "cell_type": "code",
   "execution_count": 1,
   "id": "c9d69353",
   "metadata": {},
   "outputs": [],
   "source": [
    "import pandas\n",
    "from sklearn.neural_network import MLPClassifier\n",
    "from sklearn.model_selection import train_test_split\n",
    "from sklearn.metrics import accuracy_score, confusion_matrix"
   ]
  },
  {
   "cell_type": "code",
   "execution_count": 2,
   "id": "9b975bf6",
   "metadata": {},
   "outputs": [],
   "source": [
    "df = pandas.read_csv(\"final_data.csv\")"
   ]
  },
  {
   "cell_type": "code",
   "execution_count": 3,
   "id": "74772984",
   "metadata": {},
   "outputs": [
    {
     "data": {
      "text/plain": [
       "(429, 5001)"
      ]
     },
     "execution_count": 3,
     "metadata": {},
     "output_type": "execute_result"
    }
   ],
   "source": [
    "df.shape"
   ]
  },
  {
   "cell_type": "code",
   "execution_count": 3,
   "id": "a235829a",
   "metadata": {},
   "outputs": [],
   "source": [
    "y = df.iloc[:, 0]\n",
    "x = df.iloc[:, 1:5001]"
   ]
  },
  {
   "cell_type": "code",
   "execution_count": 6,
   "id": "f6454060",
   "metadata": {},
   "outputs": [
    {
     "data": {
      "text/html": [
       "<div>\n",
       "<style scoped>\n",
       "    .dataframe tbody tr th:only-of-type {\n",
       "        vertical-align: middle;\n",
       "    }\n",
       "\n",
       "    .dataframe tbody tr th {\n",
       "        vertical-align: top;\n",
       "    }\n",
       "\n",
       "    .dataframe thead th {\n",
       "        text-align: right;\n",
       "    }\n",
       "</style>\n",
       "<table border=\"1\" class=\"dataframe\">\n",
       "  <thead>\n",
       "    <tr style=\"text-align: right;\">\n",
       "      <th></th>\n",
       "      <th>0</th>\n",
       "      <th>1</th>\n",
       "      <th>2</th>\n",
       "      <th>3</th>\n",
       "      <th>4</th>\n",
       "      <th>5</th>\n",
       "      <th>6</th>\n",
       "      <th>7</th>\n",
       "      <th>8</th>\n",
       "      <th>9</th>\n",
       "      <th>...</th>\n",
       "      <th>4990</th>\n",
       "      <th>4991</th>\n",
       "      <th>4992</th>\n",
       "      <th>4993</th>\n",
       "      <th>4994</th>\n",
       "      <th>4995</th>\n",
       "      <th>4996</th>\n",
       "      <th>4997</th>\n",
       "      <th>4998</th>\n",
       "      <th>4999</th>\n",
       "    </tr>\n",
       "  </thead>\n",
       "  <tbody>\n",
       "    <tr>\n",
       "      <th>0</th>\n",
       "      <td>0.068812</td>\n",
       "      <td>0.067954</td>\n",
       "      <td>0.067035</td>\n",
       "      <td>0.066056</td>\n",
       "      <td>0.065017</td>\n",
       "      <td>0.063921</td>\n",
       "      <td>0.062769</td>\n",
       "      <td>0.061562</td>\n",
       "      <td>0.060303</td>\n",
       "      <td>0.058992</td>\n",
       "      <td>...</td>\n",
       "      <td>0.075513</td>\n",
       "      <td>0.074389</td>\n",
       "      <td>0.073247</td>\n",
       "      <td>0.072087</td>\n",
       "      <td>0.070911</td>\n",
       "      <td>0.069719</td>\n",
       "      <td>0.068511</td>\n",
       "      <td>0.067290</td>\n",
       "      <td>0.066055</td>\n",
       "      <td>0.064807</td>\n",
       "    </tr>\n",
       "    <tr>\n",
       "      <th>1</th>\n",
       "      <td>0.064868</td>\n",
       "      <td>0.065218</td>\n",
       "      <td>0.065525</td>\n",
       "      <td>0.065791</td>\n",
       "      <td>0.066014</td>\n",
       "      <td>0.066196</td>\n",
       "      <td>0.066335</td>\n",
       "      <td>0.066432</td>\n",
       "      <td>0.066488</td>\n",
       "      <td>0.066502</td>\n",
       "      <td>...</td>\n",
       "      <td>-0.023767</td>\n",
       "      <td>-0.023571</td>\n",
       "      <td>-0.023383</td>\n",
       "      <td>-0.023206</td>\n",
       "      <td>-0.023040</td>\n",
       "      <td>-0.022885</td>\n",
       "      <td>-0.022742</td>\n",
       "      <td>-0.022610</td>\n",
       "      <td>-0.022491</td>\n",
       "      <td>-0.022385</td>\n",
       "    </tr>\n",
       "    <tr>\n",
       "      <th>2</th>\n",
       "      <td>0.079211</td>\n",
       "      <td>0.079346</td>\n",
       "      <td>0.079426</td>\n",
       "      <td>0.079454</td>\n",
       "      <td>0.079429</td>\n",
       "      <td>0.079352</td>\n",
       "      <td>0.079223</td>\n",
       "      <td>0.079044</td>\n",
       "      <td>0.078814</td>\n",
       "      <td>0.078533</td>\n",
       "      <td>...</td>\n",
       "      <td>-0.101575</td>\n",
       "      <td>-0.100952</td>\n",
       "      <td>-0.100291</td>\n",
       "      <td>-0.099593</td>\n",
       "      <td>-0.098857</td>\n",
       "      <td>-0.098083</td>\n",
       "      <td>-0.097272</td>\n",
       "      <td>-0.096423</td>\n",
       "      <td>-0.095536</td>\n",
       "      <td>-0.094610</td>\n",
       "    </tr>\n",
       "    <tr>\n",
       "      <th>3</th>\n",
       "      <td>0.065392</td>\n",
       "      <td>0.065306</td>\n",
       "      <td>0.065163</td>\n",
       "      <td>0.064964</td>\n",
       "      <td>0.064710</td>\n",
       "      <td>0.064400</td>\n",
       "      <td>0.064035</td>\n",
       "      <td>0.063618</td>\n",
       "      <td>0.063147</td>\n",
       "      <td>0.062625</td>\n",
       "      <td>...</td>\n",
       "      <td>-0.006558</td>\n",
       "      <td>-0.006994</td>\n",
       "      <td>-0.007440</td>\n",
       "      <td>-0.007897</td>\n",
       "      <td>-0.008367</td>\n",
       "      <td>-0.008848</td>\n",
       "      <td>-0.009342</td>\n",
       "      <td>-0.009850</td>\n",
       "      <td>-0.010371</td>\n",
       "      <td>-0.010906</td>\n",
       "    </tr>\n",
       "    <tr>\n",
       "      <th>4</th>\n",
       "      <td>-1.900656</td>\n",
       "      <td>-1.901549</td>\n",
       "      <td>-1.901313</td>\n",
       "      <td>-1.899915</td>\n",
       "      <td>-1.897319</td>\n",
       "      <td>-1.893495</td>\n",
       "      <td>-1.888409</td>\n",
       "      <td>-1.882032</td>\n",
       "      <td>-1.874335</td>\n",
       "      <td>-1.865288</td>\n",
       "      <td>...</td>\n",
       "      <td>4.346379</td>\n",
       "      <td>4.359643</td>\n",
       "      <td>4.371067</td>\n",
       "      <td>4.380670</td>\n",
       "      <td>4.388471</td>\n",
       "      <td>4.394486</td>\n",
       "      <td>4.398731</td>\n",
       "      <td>4.401217</td>\n",
       "      <td>4.401958</td>\n",
       "      <td>4.400963</td>\n",
       "    </tr>\n",
       "    <tr>\n",
       "      <th>...</th>\n",
       "      <td>...</td>\n",
       "      <td>...</td>\n",
       "      <td>...</td>\n",
       "      <td>...</td>\n",
       "      <td>...</td>\n",
       "      <td>...</td>\n",
       "      <td>...</td>\n",
       "      <td>...</td>\n",
       "      <td>...</td>\n",
       "      <td>...</td>\n",
       "      <td>...</td>\n",
       "      <td>...</td>\n",
       "      <td>...</td>\n",
       "      <td>...</td>\n",
       "      <td>...</td>\n",
       "      <td>...</td>\n",
       "      <td>...</td>\n",
       "      <td>...</td>\n",
       "      <td>...</td>\n",
       "      <td>...</td>\n",
       "      <td>...</td>\n",
       "    </tr>\n",
       "    <tr>\n",
       "      <th>424</th>\n",
       "      <td>-0.007028</td>\n",
       "      <td>-0.006901</td>\n",
       "      <td>-0.006780</td>\n",
       "      <td>-0.006665</td>\n",
       "      <td>-0.006556</td>\n",
       "      <td>-0.006455</td>\n",
       "      <td>-0.006362</td>\n",
       "      <td>-0.006275</td>\n",
       "      <td>-0.006197</td>\n",
       "      <td>-0.006127</td>\n",
       "      <td>...</td>\n",
       "      <td>-0.013844</td>\n",
       "      <td>-0.014691</td>\n",
       "      <td>-0.015546</td>\n",
       "      <td>-0.016409</td>\n",
       "      <td>-0.017282</td>\n",
       "      <td>-0.018165</td>\n",
       "      <td>-0.019059</td>\n",
       "      <td>-0.019965</td>\n",
       "      <td>-0.020884</td>\n",
       "      <td>-0.021816</td>\n",
       "    </tr>\n",
       "    <tr>\n",
       "      <th>425</th>\n",
       "      <td>0.057612</td>\n",
       "      <td>0.057228</td>\n",
       "      <td>0.056811</td>\n",
       "      <td>0.056360</td>\n",
       "      <td>0.055875</td>\n",
       "      <td>0.055356</td>\n",
       "      <td>0.054802</td>\n",
       "      <td>0.054212</td>\n",
       "      <td>0.053586</td>\n",
       "      <td>0.052922</td>\n",
       "      <td>...</td>\n",
       "      <td>-0.012487</td>\n",
       "      <td>-0.012581</td>\n",
       "      <td>-0.012697</td>\n",
       "      <td>-0.012833</td>\n",
       "      <td>-0.012990</td>\n",
       "      <td>-0.013167</td>\n",
       "      <td>-0.013366</td>\n",
       "      <td>-0.013584</td>\n",
       "      <td>-0.013823</td>\n",
       "      <td>-0.014081</td>\n",
       "    </tr>\n",
       "    <tr>\n",
       "      <th>426</th>\n",
       "      <td>-3.193304</td>\n",
       "      <td>-3.212503</td>\n",
       "      <td>-3.227663</td>\n",
       "      <td>-3.238789</td>\n",
       "      <td>-3.245890</td>\n",
       "      <td>-3.248981</td>\n",
       "      <td>-3.248083</td>\n",
       "      <td>-3.243220</td>\n",
       "      <td>-3.234423</td>\n",
       "      <td>-3.221724</td>\n",
       "      <td>...</td>\n",
       "      <td>-0.009407</td>\n",
       "      <td>-0.008205</td>\n",
       "      <td>-0.007011</td>\n",
       "      <td>-0.005825</td>\n",
       "      <td>-0.004648</td>\n",
       "      <td>-0.003483</td>\n",
       "      <td>-0.002328</td>\n",
       "      <td>-0.001187</td>\n",
       "      <td>-0.000060</td>\n",
       "      <td>0.001053</td>\n",
       "    </tr>\n",
       "    <tr>\n",
       "      <th>427</th>\n",
       "      <td>0.063180</td>\n",
       "      <td>0.064486</td>\n",
       "      <td>0.065722</td>\n",
       "      <td>0.066887</td>\n",
       "      <td>0.067979</td>\n",
       "      <td>0.068996</td>\n",
       "      <td>0.069937</td>\n",
       "      <td>0.070801</td>\n",
       "      <td>0.071586</td>\n",
       "      <td>0.072293</td>\n",
       "      <td>...</td>\n",
       "      <td>-0.025285</td>\n",
       "      <td>-0.025844</td>\n",
       "      <td>-0.026401</td>\n",
       "      <td>-0.026956</td>\n",
       "      <td>-0.027507</td>\n",
       "      <td>-0.028056</td>\n",
       "      <td>-0.028603</td>\n",
       "      <td>-0.029146</td>\n",
       "      <td>-0.029686</td>\n",
       "      <td>-0.030223</td>\n",
       "    </tr>\n",
       "    <tr>\n",
       "      <th>428</th>\n",
       "      <td>0.117659</td>\n",
       "      <td>0.117257</td>\n",
       "      <td>0.116756</td>\n",
       "      <td>0.116157</td>\n",
       "      <td>0.115460</td>\n",
       "      <td>0.114668</td>\n",
       "      <td>0.113781</td>\n",
       "      <td>0.112801</td>\n",
       "      <td>0.111730</td>\n",
       "      <td>0.110569</td>\n",
       "      <td>...</td>\n",
       "      <td>0.027214</td>\n",
       "      <td>0.027178</td>\n",
       "      <td>0.027123</td>\n",
       "      <td>0.027048</td>\n",
       "      <td>0.026952</td>\n",
       "      <td>0.026834</td>\n",
       "      <td>0.026692</td>\n",
       "      <td>0.026526</td>\n",
       "      <td>0.026335</td>\n",
       "      <td>0.026119</td>\n",
       "    </tr>\n",
       "  </tbody>\n",
       "</table>\n",
       "<p>429 rows × 5000 columns</p>\n",
       "</div>"
      ],
      "text/plain": [
       "            0         1         2         3         4         5         6  \\\n",
       "0    0.068812  0.067954  0.067035  0.066056  0.065017  0.063921  0.062769   \n",
       "1    0.064868  0.065218  0.065525  0.065791  0.066014  0.066196  0.066335   \n",
       "2    0.079211  0.079346  0.079426  0.079454  0.079429  0.079352  0.079223   \n",
       "3    0.065392  0.065306  0.065163  0.064964  0.064710  0.064400  0.064035   \n",
       "4   -1.900656 -1.901549 -1.901313 -1.899915 -1.897319 -1.893495 -1.888409   \n",
       "..        ...       ...       ...       ...       ...       ...       ...   \n",
       "424 -0.007028 -0.006901 -0.006780 -0.006665 -0.006556 -0.006455 -0.006362   \n",
       "425  0.057612  0.057228  0.056811  0.056360  0.055875  0.055356  0.054802   \n",
       "426 -3.193304 -3.212503 -3.227663 -3.238789 -3.245890 -3.248981 -3.248083   \n",
       "427  0.063180  0.064486  0.065722  0.066887  0.067979  0.068996  0.069937   \n",
       "428  0.117659  0.117257  0.116756  0.116157  0.115460  0.114668  0.113781   \n",
       "\n",
       "            7         8         9  ...      4990      4991      4992  \\\n",
       "0    0.061562  0.060303  0.058992  ...  0.075513  0.074389  0.073247   \n",
       "1    0.066432  0.066488  0.066502  ... -0.023767 -0.023571 -0.023383   \n",
       "2    0.079044  0.078814  0.078533  ... -0.101575 -0.100952 -0.100291   \n",
       "3    0.063618  0.063147  0.062625  ... -0.006558 -0.006994 -0.007440   \n",
       "4   -1.882032 -1.874335 -1.865288  ...  4.346379  4.359643  4.371067   \n",
       "..        ...       ...       ...  ...       ...       ...       ...   \n",
       "424 -0.006275 -0.006197 -0.006127  ... -0.013844 -0.014691 -0.015546   \n",
       "425  0.054212  0.053586  0.052922  ... -0.012487 -0.012581 -0.012697   \n",
       "426 -3.243220 -3.234423 -3.221724  ... -0.009407 -0.008205 -0.007011   \n",
       "427  0.070801  0.071586  0.072293  ... -0.025285 -0.025844 -0.026401   \n",
       "428  0.112801  0.111730  0.110569  ...  0.027214  0.027178  0.027123   \n",
       "\n",
       "         4993      4994      4995      4996      4997      4998      4999  \n",
       "0    0.072087  0.070911  0.069719  0.068511  0.067290  0.066055  0.064807  \n",
       "1   -0.023206 -0.023040 -0.022885 -0.022742 -0.022610 -0.022491 -0.022385  \n",
       "2   -0.099593 -0.098857 -0.098083 -0.097272 -0.096423 -0.095536 -0.094610  \n",
       "3   -0.007897 -0.008367 -0.008848 -0.009342 -0.009850 -0.010371 -0.010906  \n",
       "4    4.380670  4.388471  4.394486  4.398731  4.401217  4.401958  4.400963  \n",
       "..        ...       ...       ...       ...       ...       ...       ...  \n",
       "424 -0.016409 -0.017282 -0.018165 -0.019059 -0.019965 -0.020884 -0.021816  \n",
       "425 -0.012833 -0.012990 -0.013167 -0.013366 -0.013584 -0.013823 -0.014081  \n",
       "426 -0.005825 -0.004648 -0.003483 -0.002328 -0.001187 -0.000060  0.001053  \n",
       "427 -0.026956 -0.027507 -0.028056 -0.028603 -0.029146 -0.029686 -0.030223  \n",
       "428  0.027048  0.026952  0.026834  0.026692  0.026526  0.026335  0.026119  \n",
       "\n",
       "[429 rows x 5000 columns]"
      ]
     },
     "execution_count": 6,
     "metadata": {},
     "output_type": "execute_result"
    }
   ],
   "source": [
    "x"
   ]
  },
  {
   "cell_type": "code",
   "execution_count": 7,
   "id": "6ffd9caa",
   "metadata": {},
   "outputs": [
    {
     "data": {
      "text/plain": [
       "0      0\n",
       "1      9\n",
       "2      7\n",
       "3      3\n",
       "4      9\n",
       "      ..\n",
       "424    1\n",
       "425    6\n",
       "426    6\n",
       "427    6\n",
       "428    0\n",
       "Name: Unnamed: 0, Length: 429, dtype: int64"
      ]
     },
     "execution_count": 7,
     "metadata": {},
     "output_type": "execute_result"
    }
   ],
   "source": [
    "y"
   ]
  },
  {
   "cell_type": "markdown",
   "id": "f4065be0",
   "metadata": {},
   "source": [
    "### Classification"
   ]
  },
  {
   "cell_type": "code",
   "execution_count": 34,
   "id": "46dcd51b",
   "metadata": {},
   "outputs": [],
   "source": [
    "# Train-test split\n",
    "x_train, x_test, y_train, y_test = train_test_split(x, y, test_size = 0.25)"
   ]
  },
  {
   "cell_type": "code",
   "execution_count": 35,
   "id": "de98d6e0",
   "metadata": {},
   "outputs": [
    {
     "data": {
      "text/plain": [
       "((321, 5000), (108, 5000))"
      ]
     },
     "execution_count": 35,
     "metadata": {},
     "output_type": "execute_result"
    }
   ],
   "source": [
    "x_train.shape, x_test.shape"
   ]
  },
  {
   "cell_type": "code",
   "execution_count": 36,
   "id": "0b2eedc7",
   "metadata": {},
   "outputs": [
    {
     "data": {
      "text/plain": [
       "((321,), (108,))"
      ]
     },
     "execution_count": 36,
     "metadata": {},
     "output_type": "execute_result"
    }
   ],
   "source": [
    "y_train.shape, y_test.shape"
   ]
  },
  {
   "cell_type": "markdown",
   "id": "0f0308b3",
   "metadata": {},
   "source": [
    "#### Multilayer Perceptron"
   ]
  },
  {
   "cell_type": "code",
   "execution_count": 119,
   "id": "4c173fa9",
   "metadata": {},
   "outputs": [],
   "source": [
    "clf = MLPClassifier(hidden_layer_sizes=(1000, 100, 10),\n",
    "                    shuffle=True,\n",
    "                    max_iter=30,\n",
    "                    batch_size=30,\n",
    "                    alpha=0.001,\n",
    "                    solver='sgd',\n",
    "                    verbose=True,\n",
    "                    early_stopping=True,\n",
    "                    momentum=0.9)"
   ]
  },
  {
   "cell_type": "code",
   "execution_count": 120,
   "id": "9598ca57",
   "metadata": {},
   "outputs": [
    {
     "name": "stdout",
     "output_type": "stream",
     "text": [
      "Iteration 1, loss = 2.67783493\n",
      "Validation score: 0.060606\n"
     ]
    },
    {
     "name": "stderr",
     "output_type": "stream",
     "text": [
      "C:\\Users\\Lenovo\\AppData\\Local\\Programs\\Python\\Python310\\lib\\site-packages\\sklearn\\base.py:450: UserWarning: X does not have valid feature names, but MLPClassifier was fitted with feature names\n",
      "  warnings.warn(\n"
     ]
    },
    {
     "name": "stdout",
     "output_type": "stream",
     "text": [
      "Iteration 2, loss = 2.41111950\n",
      "Validation score: 0.060606\n"
     ]
    },
    {
     "name": "stderr",
     "output_type": "stream",
     "text": [
      "C:\\Users\\Lenovo\\AppData\\Local\\Programs\\Python\\Python310\\lib\\site-packages\\sklearn\\base.py:450: UserWarning: X does not have valid feature names, but MLPClassifier was fitted with feature names\n",
      "  warnings.warn(\n"
     ]
    },
    {
     "name": "stdout",
     "output_type": "stream",
     "text": [
      "Iteration 3, loss = 2.32177284\n",
      "Validation score: 0.060606\n"
     ]
    },
    {
     "name": "stderr",
     "output_type": "stream",
     "text": [
      "C:\\Users\\Lenovo\\AppData\\Local\\Programs\\Python\\Python310\\lib\\site-packages\\sklearn\\base.py:450: UserWarning: X does not have valid feature names, but MLPClassifier was fitted with feature names\n",
      "  warnings.warn(\n"
     ]
    },
    {
     "name": "stdout",
     "output_type": "stream",
     "text": [
      "Iteration 4, loss = 2.27406265\n",
      "Validation score: 0.060606\n"
     ]
    },
    {
     "name": "stderr",
     "output_type": "stream",
     "text": [
      "C:\\Users\\Lenovo\\AppData\\Local\\Programs\\Python\\Python310\\lib\\site-packages\\sklearn\\base.py:450: UserWarning: X does not have valid feature names, but MLPClassifier was fitted with feature names\n",
      "  warnings.warn(\n"
     ]
    },
    {
     "name": "stdout",
     "output_type": "stream",
     "text": [
      "Iteration 5, loss = 2.23561831\n",
      "Validation score: 0.060606\n"
     ]
    },
    {
     "name": "stderr",
     "output_type": "stream",
     "text": [
      "C:\\Users\\Lenovo\\AppData\\Local\\Programs\\Python\\Python310\\lib\\site-packages\\sklearn\\base.py:450: UserWarning: X does not have valid feature names, but MLPClassifier was fitted with feature names\n",
      "  warnings.warn(\n"
     ]
    },
    {
     "name": "stdout",
     "output_type": "stream",
     "text": [
      "Iteration 6, loss = 2.20998713\n",
      "Validation score: 0.060606\n"
     ]
    },
    {
     "name": "stderr",
     "output_type": "stream",
     "text": [
      "C:\\Users\\Lenovo\\AppData\\Local\\Programs\\Python\\Python310\\lib\\site-packages\\sklearn\\base.py:450: UserWarning: X does not have valid feature names, but MLPClassifier was fitted with feature names\n",
      "  warnings.warn(\n"
     ]
    },
    {
     "name": "stdout",
     "output_type": "stream",
     "text": [
      "Iteration 7, loss = 2.18662866\n",
      "Validation score: 0.030303\n"
     ]
    },
    {
     "name": "stderr",
     "output_type": "stream",
     "text": [
      "C:\\Users\\Lenovo\\AppData\\Local\\Programs\\Python\\Python310\\lib\\site-packages\\sklearn\\base.py:450: UserWarning: X does not have valid feature names, but MLPClassifier was fitted with feature names\n",
      "  warnings.warn(\n"
     ]
    },
    {
     "name": "stdout",
     "output_type": "stream",
     "text": [
      "Iteration 8, loss = 2.16693743\n",
      "Validation score: 0.030303\n"
     ]
    },
    {
     "name": "stderr",
     "output_type": "stream",
     "text": [
      "C:\\Users\\Lenovo\\AppData\\Local\\Programs\\Python\\Python310\\lib\\site-packages\\sklearn\\base.py:450: UserWarning: X does not have valid feature names, but MLPClassifier was fitted with feature names\n",
      "  warnings.warn(\n"
     ]
    },
    {
     "name": "stdout",
     "output_type": "stream",
     "text": [
      "Iteration 9, loss = 2.14621553\n",
      "Validation score: 0.030303\n"
     ]
    },
    {
     "name": "stderr",
     "output_type": "stream",
     "text": [
      "C:\\Users\\Lenovo\\AppData\\Local\\Programs\\Python\\Python310\\lib\\site-packages\\sklearn\\base.py:450: UserWarning: X does not have valid feature names, but MLPClassifier was fitted with feature names\n",
      "  warnings.warn(\n"
     ]
    },
    {
     "name": "stdout",
     "output_type": "stream",
     "text": [
      "Iteration 10, loss = 2.12631852\n",
      "Validation score: 0.030303\n"
     ]
    },
    {
     "name": "stderr",
     "output_type": "stream",
     "text": [
      "C:\\Users\\Lenovo\\AppData\\Local\\Programs\\Python\\Python310\\lib\\site-packages\\sklearn\\base.py:450: UserWarning: X does not have valid feature names, but MLPClassifier was fitted with feature names\n",
      "  warnings.warn(\n"
     ]
    },
    {
     "name": "stdout",
     "output_type": "stream",
     "text": [
      "Iteration 11, loss = 2.11010438\n",
      "Validation score: 0.030303\n"
     ]
    },
    {
     "name": "stderr",
     "output_type": "stream",
     "text": [
      "C:\\Users\\Lenovo\\AppData\\Local\\Programs\\Python\\Python310\\lib\\site-packages\\sklearn\\base.py:450: UserWarning: X does not have valid feature names, but MLPClassifier was fitted with feature names\n",
      "  warnings.warn(\n"
     ]
    },
    {
     "name": "stdout",
     "output_type": "stream",
     "text": [
      "Iteration 12, loss = 2.09239732\n",
      "Validation score: 0.030303\n",
      "Validation score did not improve more than tol=0.000100 for 10 consecutive epochs. Stopping.\n"
     ]
    },
    {
     "name": "stderr",
     "output_type": "stream",
     "text": [
      "C:\\Users\\Lenovo\\AppData\\Local\\Programs\\Python\\Python310\\lib\\site-packages\\sklearn\\base.py:450: UserWarning: X does not have valid feature names, but MLPClassifier was fitted with feature names\n",
      "  warnings.warn(\n"
     ]
    },
    {
     "data": {
      "text/plain": [
       "MLPClassifier(alpha=0.001, batch_size=30, early_stopping=True,\n",
       "              hidden_layer_sizes=(1000, 100, 10), max_iter=30, solver='sgd',\n",
       "              verbose=True)"
      ]
     },
     "execution_count": 120,
     "metadata": {},
     "output_type": "execute_result"
    }
   ],
   "source": [
    "clf.fit(x_train, y_train)"
   ]
  },
  {
   "cell_type": "code",
   "execution_count": 121,
   "id": "f699ead7",
   "metadata": {},
   "outputs": [
    {
     "name": "stdout",
     "output_type": "stream",
     "text": [
      "0.10185185185185185\n"
     ]
    }
   ],
   "source": [
    "y_pred = clf.predict(x_test)\n",
    "print(accuracy_score(y_test, y_pred))"
   ]
  },
  {
   "cell_type": "code",
   "execution_count": null,
   "id": "a867ebe6",
   "metadata": {},
   "outputs": [],
   "source": []
  },
  {
   "cell_type": "markdown",
   "id": "4bf58aa2",
   "metadata": {},
   "source": [
    "#### Support Vector Machine"
   ]
  },
  {
   "cell_type": "code",
   "execution_count": 26,
   "id": "87eb147e",
   "metadata": {},
   "outputs": [],
   "source": [
    "from sklearn.svm import LinearSVC\n",
    "from sklearn.pipeline import make_pipeline\n",
    "from sklearn.preprocessing import StandardScaler"
   ]
  },
  {
   "cell_type": "code",
   "execution_count": 44,
   "id": "3eff675e",
   "metadata": {},
   "outputs": [],
   "source": [
    "clf = make_pipeline(StandardScaler(), LinearSVC(max_iter=5000))"
   ]
  },
  {
   "cell_type": "code",
   "execution_count": 45,
   "id": "118030b0",
   "metadata": {},
   "outputs": [
    {
     "name": "stderr",
     "output_type": "stream",
     "text": [
      "C:\\Users\\Lenovo\\AppData\\Local\\Programs\\Python\\Python310\\lib\\site-packages\\sklearn\\svm\\_base.py:1206: ConvergenceWarning: Liblinear failed to converge, increase the number of iterations.\n",
      "  warnings.warn(\n"
     ]
    },
    {
     "data": {
      "text/plain": [
       "Pipeline(steps=[('standardscaler', StandardScaler()),\n",
       "                ('linearsvc', LinearSVC(max_iter=5000))])"
      ]
     },
     "execution_count": 45,
     "metadata": {},
     "output_type": "execute_result"
    }
   ],
   "source": [
    "clf.fit(x_train, y_train)"
   ]
  },
  {
   "cell_type": "code",
   "execution_count": 46,
   "id": "63cd0c40",
   "metadata": {},
   "outputs": [
    {
     "name": "stdout",
     "output_type": "stream",
     "text": [
      "0.08333333333333333\n"
     ]
    }
   ],
   "source": [
    "y_pred = clf.predict(x_test)\n",
    "print(accuracy_score(y_test, y_pred))"
   ]
  },
  {
   "cell_type": "markdown",
   "id": "7bfa5e84",
   "metadata": {},
   "source": [
    "#### Random Forest Classifier"
   ]
  },
  {
   "cell_type": "code",
   "execution_count": 6,
   "id": "b9e59384",
   "metadata": {},
   "outputs": [],
   "source": [
    "import matplotlib.pyplot as plt"
   ]
  },
  {
   "cell_type": "code",
   "execution_count": 9,
   "id": "148832a6",
   "metadata": {},
   "outputs": [],
   "source": [
    "from sklearn.ensemble import RandomForestClassifier"
   ]
  },
  {
   "cell_type": "code",
   "execution_count": 57,
   "id": "60b653e4",
   "metadata": {},
   "outputs": [
    {
     "data": {
      "text/plain": [
       "RandomForestClassifier(max_depth=9, random_state=0)"
      ]
     },
     "execution_count": 57,
     "metadata": {},
     "output_type": "execute_result"
    }
   ],
   "source": [
    "classifier = RandomForestClassifier(max_depth=9, random_state=0)\n",
    "classifier.fit(x_train, y_train)"
   ]
  },
  {
   "cell_type": "code",
   "execution_count": 58,
   "id": "a9d44fd5",
   "metadata": {},
   "outputs": [
    {
     "name": "stdout",
     "output_type": "stream",
     "text": [
      "0.10185185185185185\n"
     ]
    }
   ],
   "source": [
    "y_pred = classifier.predict(x_test)\n",
    "print(accuracy_score(y_test, y_pred))"
   ]
  },
  {
   "cell_type": "code",
   "execution_count": 40,
   "id": "098ebefd",
   "metadata": {
    "scrolled": true
   },
   "outputs": [
    {
     "name": "stdout",
     "output_type": "stream",
     "text": [
      "0.027777777777777776\n",
      "0.018518518518518517\n",
      "0.05555555555555555\n",
      "0.046296296296296294\n",
      "0.05555555555555555\n",
      "0.08333333333333333\n",
      "0.046296296296296294\n",
      "0.05555555555555555\n",
      "0.10185185185185185\n",
      "0.09259259259259259\n",
      "0.08333333333333333\n",
      "0.07407407407407407\n",
      "0.05555555555555555\n",
      "0.046296296296296294\n",
      "0.046296296296296294\n",
      "0.05555555555555555\n",
      "0.06481481481481481\n",
      "0.05555555555555555\n",
      "0.06481481481481481\n",
      "0.06481481481481481\n",
      "0.06481481481481481\n",
      "0.06481481481481481\n",
      "0.06481481481481481\n",
      "0.06481481481481481\n"
     ]
    }
   ],
   "source": [
    "for i in range(1, 25):\n",
    "    classifier = RandomForestClassifier(max_depth=i, random_state=0)\n",
    "    classifier.fit(x_train, y_train)\n",
    "    y_pred = classifier.predict(x_test)\n",
    "    print(accuracy_score(y_test, y_pred))"
   ]
  },
  {
   "cell_type": "markdown",
   "id": "21e55bae",
   "metadata": {},
   "source": [
    "#### K-NN"
   ]
  },
  {
   "cell_type": "code",
   "execution_count": 59,
   "id": "3f0c06bc",
   "metadata": {},
   "outputs": [],
   "source": [
    "from sklearn.neighbors import KNeighborsClassifier"
   ]
  },
  {
   "cell_type": "code",
   "execution_count": 73,
   "id": "4a4eb910",
   "metadata": {},
   "outputs": [
    {
     "data": {
      "text/plain": [
       "KNeighborsClassifier(n_neighbors=18)"
      ]
     },
     "execution_count": 73,
     "metadata": {},
     "output_type": "execute_result"
    }
   ],
   "source": [
    "neigh = KNeighborsClassifier(n_neighbors=18)\n",
    "neigh.fit(x_train, y_train)"
   ]
  },
  {
   "cell_type": "code",
   "execution_count": 74,
   "id": "d190df4e",
   "metadata": {},
   "outputs": [
    {
     "name": "stdout",
     "output_type": "stream",
     "text": [
      "0.16666666666666666\n"
     ]
    }
   ],
   "source": [
    "y_pred = neigh.predict(x_test)\n",
    "print(accuracy_score(y_test, y_pred))"
   ]
  },
  {
   "cell_type": "markdown",
   "id": "330f700d",
   "metadata": {},
   "source": [
    "#### Naive Bayes"
   ]
  },
  {
   "cell_type": "code",
   "execution_count": 76,
   "id": "55951a4b",
   "metadata": {},
   "outputs": [
    {
     "data": {
      "text/plain": [
       "GaussianNB()"
      ]
     },
     "execution_count": 76,
     "metadata": {},
     "output_type": "execute_result"
    }
   ],
   "source": [
    "from sklearn.naive_bayes import GaussianNB\n",
    "gnb = GaussianNB()\n",
    "gnb.fit(x_train, y_train)"
   ]
  },
  {
   "cell_type": "code",
   "execution_count": 77,
   "id": "f4028fb9",
   "metadata": {},
   "outputs": [
    {
     "name": "stdout",
     "output_type": "stream",
     "text": [
      "0.08333333333333333\n"
     ]
    }
   ],
   "source": [
    "y_pred = gnb.predict(x_test)\n",
    "print(accuracy_score(y_test, y_pred))"
   ]
  },
  {
   "cell_type": "markdown",
   "id": "c1df7eb1",
   "metadata": {},
   "source": [
    "#### Linear Discriminant Analysis"
   ]
  },
  {
   "cell_type": "code",
   "execution_count": 78,
   "id": "9968fcc1",
   "metadata": {},
   "outputs": [],
   "source": [
    "from sklearn.discriminant_analysis import LinearDiscriminantAnalysis"
   ]
  },
  {
   "cell_type": "code",
   "execution_count": 81,
   "id": "cf7fd7ce",
   "metadata": {},
   "outputs": [
    {
     "data": {
      "text/plain": [
       "LinearDiscriminantAnalysis()"
      ]
     },
     "execution_count": 81,
     "metadata": {},
     "output_type": "execute_result"
    }
   ],
   "source": [
    "clf = LinearDiscriminantAnalysis()\n",
    "clf.fit(x_train, y_train)"
   ]
  },
  {
   "cell_type": "code",
   "execution_count": 82,
   "id": "eb467399",
   "metadata": {},
   "outputs": [
    {
     "name": "stdout",
     "output_type": "stream",
     "text": [
      "0.08333333333333333\n"
     ]
    }
   ],
   "source": [
    "y_pred = clf.predict(x_test)\n",
    "print(accuracy_score(y_test, y_pred))"
   ]
  },
  {
   "cell_type": "code",
   "execution_count": null,
   "id": "616de946",
   "metadata": {},
   "outputs": [],
   "source": []
  }
 ],
 "metadata": {
  "kernelspec": {
   "display_name": "Python 3 (ipykernel)",
   "language": "python",
   "name": "python3"
  },
  "language_info": {
   "codemirror_mode": {
    "name": "ipython",
    "version": 3
   },
   "file_extension": ".py",
   "mimetype": "text/x-python",
   "name": "python",
   "nbconvert_exporter": "python",
   "pygments_lexer": "ipython3",
   "version": "3.10.4"
  }
 },
 "nbformat": 4,
 "nbformat_minor": 5
}
